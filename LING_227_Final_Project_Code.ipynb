{
 "cells": [
  {
   "cell_type": "markdown",
   "metadata": {},
   "source": [
    "# Imports"
   ]
  },
  {
   "cell_type": "code",
   "execution_count": 201,
   "metadata": {
    "ExecuteTime": {
     "end_time": "2023-04-24T04:23:48.095257Z",
     "start_time": "2023-04-24T04:23:48.082055Z"
    },
    "id": "a2vEyX_BVzTB"
   },
   "outputs": [],
   "source": [
    "# link to all dfs: https://nijianmo.github.io/amazon/index.html\n",
    "import pandas as pd\n",
    "import numpy as np\n",
    "import matplotlib.pyplot as plt\n",
    "import twokenize # from homework 2b\n",
    "from porter_stemmer import PorterStemmer\n",
    "from sklearn.model_selection import train_test_split\n",
    "from sklearn.metrics import confusion_matrix, roc_curve, auc\n",
    "from sklearn.naive_bayes import ComplementNB"
   ]
  },
  {
   "cell_type": "markdown",
   "metadata": {},
   "source": [
    "# Prepare and Explore Data"
   ]
  },
  {
   "cell_type": "code",
   "execution_count": 64,
   "metadata": {
    "ExecuteTime": {
     "end_time": "2023-04-23T23:44:31.824437Z",
     "start_time": "2023-04-23T23:44:31.820357Z"
    },
    "id": "GpRCnN5D9BKD"
   },
   "outputs": [],
   "source": [
    "def read_df(filename):\n",
    "    df = pd.read_json(filename, lines = True)\n",
    "    df[\"reviewTime\"] = pd.to_datetime(df[\"reviewTime\"])\n",
    "    df = df.drop_duplicates(subset = [\"reviewTime\", \"reviewerID\", \"asin\"])\n",
    "    df = df.reset_index(drop = True)\n",
    "    #df = df.groupby(\"asin\").filter(lambda x: len(x) >= 5)\n",
    "    #df = df.reset_index(drop = True)\n",
    "    df = df.dropna(subset = 'reviewText')\n",
    "    df = df.reset_index(drop = True)\n",
    "    return df"
   ]
  },
  {
   "cell_type": "code",
   "execution_count": null,
   "metadata": {
    "ExecuteTime": {
     "end_time": "2023-04-24T00:27:49.510254Z",
     "start_time": "2023-04-24T00:27:10.111796Z"
    },
    "id": "a1dp0fwj9S1d"
   },
   "outputs": [],
   "source": [
    "# https://jmcauley.ucsd.edu/data/amazon_v2/categoryFilesSmall/Toys_and_Games_5.json.gz\n",
    "df = read_df(\"data/Video_Games_5.json\")"
   ]
  },
  {
   "cell_type": "code",
   "execution_count": 118,
   "metadata": {
    "ExecuteTime": {
     "end_time": "2023-04-24T00:44:51.680139Z",
     "start_time": "2023-04-24T00:44:51.561964Z"
    }
   },
   "outputs": [
    {
     "data": {
      "text/plain": [
       "<BarContainer object of 5 artists>"
      ]
     },
     "execution_count": 118,
     "metadata": {},
     "output_type": "execute_result"
    },
    {
     "data": {
      "image/png": "[encoded data removed]",
      "text/plain": [
       "<Figure size 640x480 with 1 Axes>"
      ]
     },
     "metadata": {},
     "output_type": "display_data"
    }
   ],
   "source": [
    "hist_series = df.overall.value_counts()\n",
    "indices, values = hist_series.index, hist_series.values\n",
    "plt.bar(indices, values)"
   ]
  },
  {
   "cell_type": "markdown",
   "metadata": {},
   "source": [
    "# Prepare Features"
   ]
  },
  {
   "cell_type": "code",
   "execution_count": null,
   "metadata": {},
   "outputs": [],
   "source": [
    "# code taken from homework 2b student_code.py\n",
    "stemmer = PorterStemmer()\n",
    "stop_words = set([x.strip() for x in open(\"data/resources/stopwords.english\", encoding=\"ISO-8859-1\").readlines()])\n",
    "\n",
    "neg_words =  set([x.strip() for x in open(\"res/negative-words.txt\", encoding=\"ISO-8859-1\").readlines() if not(x.startswith(\";\"))])\n",
    "neg_words.remove(\"\")\n",
    "\n",
    "pos_words =  set([x.strip() for x in open(\"res/positive-words.txt\", encoding=\"ISO-8859-1\").readlines() if not(x.startswith(\";\"))])\n",
    "pos_words.remove(\"\")"
   ]
  },
  {
   "cell_type": "code",
   "execution_count": 154,
   "metadata": {
    "ExecuteTime": {
     "end_time": "2023-04-24T03:59:44.091032Z",
     "start_time": "2023-04-24T03:50:55.022077Z"
    }
   },
   "outputs": [],
   "source": [
    "X = pd.DataFrame()\n",
    "features = {\n",
    "    'contains_!' : lambda x: \"!\" in x,\n",
    "    'num_positive' : lambda x: sum([word.lower() in pos_words for word in twokenize.tokenize(x)]),\n",
    "    'num_negative' : lambda x: sum([word.lower() in neg_words for word in twokenize.tokenize(x)]),\n",
    "    'length' : len\n",
    "}\n",
    "\n",
    "# TODO: unigram, bigram features? - this could get ugly, \n",
    "# but I guess we dont have to look at summary of logreg, just test performance\n",
    "\n",
    "# build up the features data-matrix X by applying all of the features\n",
    "review_strs = df['reviewText'].astype(str)\n",
    "for feature, f in features.items():\n",
    "    X[feature] = review_strs.apply(f)\n",
    "    \n",
    "Y_polarity = np.where(df.overall <= 3, 0, 1)"
   ]
  },
  {
   "cell_type": "code",
   "execution_count": 157,
   "metadata": {
    "ExecuteTime": {
     "end_time": "2023-04-24T04:00:12.848096Z",
     "start_time": "2023-04-24T04:00:12.795474Z"
    }
   },
   "outputs": [],
   "source": [
    "X_train, X_test, y_train, y_test = train_test_split(X, Y_polarity, test_size=0.33)"
   ]
  },
  {
   "cell_type": "markdown",
   "metadata": {},
   "source": [
    "# Train Logistic Regression"
   ]
  },
  {
   "cell_type": "code",
   "execution_count": 202,
   "metadata": {
    "ExecuteTime": {
     "end_time": "2023-04-24T04:23:59.338458Z",
     "start_time": "2023-04-24T04:23:57.731860Z"
    }
   },
   "outputs": [
    {
     "name": "stdout",
     "output_type": "stream",
     "text": [
      "Optimization terminated successfully.\n",
      "         Current function value: 0.471987\n",
      "         Iterations 6\n",
      "                           Logit Regression Results                           \n",
      "==============================================================================\n",
      "Dep. Variable:                      y   No. Observations:               317462\n",
      "Model:                          Logit   Df Residuals:                   317457\n",
      "Method:                           MLE   Df Model:                            4\n",
      "Date:                Mon, 24 Apr 2023   Pseudo R-squ.:                 0.07698\n",
      "Time:                        00:23:59   Log-Likelihood:            -1.4984e+05\n",
      "converged:                       True   LL-Null:                   -1.6233e+05\n",
      "Covariance Type:            nonrobust   LLR p-value:                     0.000\n",
      "================================================================================\n",
      "                   coef    std err          z      P>|z|      [0.025      0.975]\n",
      "--------------------------------------------------------------------------------\n",
      "const            1.1814      0.006    204.440      0.000       1.170       1.193\n",
      "contains_!       0.5202      0.012     43.402      0.000       0.497       0.544\n",
      "num_positive     0.1489      0.002     86.377      0.000       0.145       0.152\n",
      "num_negative    -0.1481      0.002    -90.376      0.000      -0.151      -0.145\n",
      "length          -0.0004   1.51e-05    -27.425      0.000      -0.000      -0.000\n",
      "================================================================================\n"
     ]
    },
    {
     "ename": "AttributeError",
     "evalue": "'ComplementNB' object has no attribute 'summary'",
     "output_type": "error",
     "traceback": [
      "\u001b[0;31m---------------------------------------------------------------------------\u001b[0m",
      "\u001b[0;31mAttributeError\u001b[0m                            Traceback (most recent call last)",
      "\u001b[0;32m/tmp/ipykernel_1947549/2606775319.py\u001b[0m in \u001b[0;36m<cell line: 7>\u001b[0;34m()\u001b[0m\n\u001b[1;32m      5\u001b[0m \u001b[0mcnb_model\u001b[0m \u001b[0;34m=\u001b[0m \u001b[0mcnb\u001b[0m\u001b[0;34m.\u001b[0m\u001b[0mfit\u001b[0m\u001b[0;34m(\u001b[0m\u001b[0mX_train\u001b[0m\u001b[0;34m,\u001b[0m \u001b[0my_train\u001b[0m\u001b[0;34m)\u001b[0m\u001b[0;34m\u001b[0m\u001b[0;34m\u001b[0m\u001b[0m\n\u001b[1;32m      6\u001b[0m \u001b[0my_pred\u001b[0m \u001b[0;34m=\u001b[0m \u001b[0mcnb_model\u001b[0m\u001b[0;34m.\u001b[0m\u001b[0mpredict\u001b[0m\u001b[0;34m(\u001b[0m\u001b[0mX_test\u001b[0m\u001b[0;34m)\u001b[0m\u001b[0;34m\u001b[0m\u001b[0;34m\u001b[0m\u001b[0m\n\u001b[0;32m----> 7\u001b[0;31m \u001b[0mprint\u001b[0m\u001b[0;34m(\u001b[0m\u001b[0mcnb_model\u001b[0m\u001b[0;34m.\u001b[0m\u001b[0msummary\u001b[0m\u001b[0;34m(\u001b[0m\u001b[0;34m)\u001b[0m\u001b[0;34m)\u001b[0m\u001b[0;34m\u001b[0m\u001b[0;34m\u001b[0m\u001b[0m\n\u001b[0m",
      "\u001b[0;31mAttributeError\u001b[0m: 'ComplementNB' object has no attribute 'summary'"
     ]
    }
   ],
   "source": [
    "log_reg_model = sm.Logit(endog = y_train, exog = sm.add_constant(X_train).astype(int)).fit()\n",
    "print(log_reg_model.summary())\n",
    "\n",
    "cnb = ComplementNB()\n",
    "cnb_model = cnb.fit(X_train, y_train)"
   ]
  },
  {
   "cell_type": "markdown",
   "metadata": {},
   "source": [
    "# Evaluate Model"
   ]
  },
  {
   "cell_type": "code",
   "execution_count": 208,
   "metadata": {
    "ExecuteTime": {
     "end_time": "2023-04-24T04:25:33.297208Z",
     "start_time": "2023-04-24T04:25:33.251879Z"
    }
   },
   "outputs": [],
   "source": [
    "lr_p_hat = log_reg_model.predict(sm.add_constant(X_test).astype(int))\n",
    "lr_y_hat = np.round(lr_p_hat)\n",
    "\n",
    "nb_y_hat = cnb_model.predict(X_test)"
   ]
  },
  {
   "cell_type": "code",
   "execution_count": 210,
   "metadata": {
    "ExecuteTime": {
     "end_time": "2023-04-24T04:25:46.551529Z",
     "start_time": "2023-04-24T04:25:46.277353Z"
    }
   },
   "outputs": [
    {
     "data": {
      "text/plain": [
       "(42.63690652661895, 62.02519947013339, 50.53524591192601, 0)"
      ]
     },
     "execution_count": 210,
     "metadata": {},
     "output_type": "execute_result"
    }
   ],
   "source": [
    "# copied from twitter_util from hw2\n",
    "def scoreForLabel (eval_labels, gold_labels, label):\n",
    "    num_correct = sum([e==g and e==label for e,g in zip(eval_labels,gold_labels)])\n",
    "    num_predicted = np.sum(eval_labels == label)\n",
    "    num_gold = np.sum(gold_labels == label)\n",
    "    precision = num_correct/num_predicted * 100.0 if num_predicted != 0 else 0.0\n",
    "    recall = num_correct/num_gold * 100.0\n",
    "    fscore = 2*precision*recall/(precision+recall) if precision+recall != 0 else 0.0\n",
    "    return (precision,recall,fscore,label)\n",
    "\n",
    "scoreForLabel(nb_y_hat, y_test, 0)"
   ]
  },
  {
   "cell_type": "code",
   "execution_count": 212,
   "metadata": {
    "ExecuteTime": {
     "end_time": "2023-04-24T04:26:02.185269Z",
     "start_time": "2023-04-24T04:26:02.053089Z"
    }
   },
   "outputs": [
    {
     "data": {
      "text/plain": [
       "[<matplotlib.lines.Line2D at 0x7f6380347940>]"
      ]
     },
     "execution_count": 212,
     "metadata": {},
     "output_type": "execute_result"
    },
    {
     "data": {
      "image/png": "[encoded data removed]",
      "text/plain": [
       "<Figure size 640x480 with 1 Axes>"
      ]
     },
     "metadata": {},
     "output_type": "display_data"
    }
   ],
   "source": [
    "fpr, tpr, _ = roc_curve(y_test, lr_p_hat)\n",
    "plt.plot(fpr, tpr)"
   ]
  },
  {
   "cell_type": "code",
   "execution_count": 213,
   "metadata": {
    "ExecuteTime": {
     "end_time": "2023-04-24T04:26:15.479867Z",
     "start_time": "2023-04-24T04:26:15.345271Z"
    }
   },
   "outputs": [
    {
     "data": {
      "text/plain": [
       "[<matplotlib.lines.Line2D at 0x7f637f657070>]"
      ]
     },
     "execution_count": 213,
     "metadata": {},
     "output_type": "execute_result"
    },
    {
     "data": {
      "image/png": "[encoded data removed]",
      "text/plain": [
       "<Figure size 640x480 with 1 Axes>"
      ]
     },
     "metadata": {},
     "output_type": "display_data"
    }
   ],
   "source": [
    "fpr, tpr, _ = roc_curve(y_test, nb_y_hat)\n",
    "plt.plot(fpr, tpr)"
   ]
  }
 ],
 "metadata": {
  "colab": {
   "provenance": []
  },
  "kernelspec": {
   "display_name": "Python 3 (ipykernel)",
   "language": "python",
   "name": "python3"
  },
  "language_info": {
   "codemirror_mode": {
    "name": "ipython",
    "version": 3
   },
   "file_extension": ".py",
   "mimetype": "text/x-python",
   "name": "python",
   "nbconvert_exporter": "python",
   "pygments_lexer": "ipython3",
   "version": "3.10.10"
  },
  "toc": {
   "base_numbering": 1,
   "nav_menu": {},
   "number_sections": true,
   "sideBar": true,
   "skip_h1_title": false,
   "title_cell": "Table of Contents",
   "title_sidebar": "Contents",
   "toc_cell": false,
   "toc_position": {},
   "toc_section_display": true,
   "toc_window_display": false
  }
 },
 "nbformat": 4,
 "nbformat_minor": 1
}
