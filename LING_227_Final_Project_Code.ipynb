{
 "cells": [
  {
   "cell_type": "code",
   "execution_count": 1,
   "metadata": {
    "ExecuteTime": {
     "end_time": "2023-04-23T20:05:08.043845Z",
     "start_time": "2023-04-23T20:05:08.036721Z"
    },
    "id": "a2vEyX_BVzTB"
   },
   "outputs": [],
   "source": [
    "import pandas as pd\n",
    "import numpy as np\n",
    "import matplotlib.pyplot as plt"
   ]
  },
  {
   "cell_type": "code",
   "execution_count": 2,
   "metadata": {
    "ExecuteTime": {
     "end_time": "2023-04-23T20:05:06.668617Z",
     "start_time": "2023-04-23T20:05:06.651461Z"
    },
    "id": "GpRCnN5D9BKD"
   },
   "outputs": [],
   "source": [
    "def read_df(filename):\n",
    "    df = pd.read_json(filename, lines = True)\n",
    "    df[\"reviewTime\"] = pd.to_datetime(df[\"reviewTime\"])\n",
    "    df = df.drop_duplicates(subset = [\"reviewTime\", \"reviewerID\", \"asin\"])\n",
    "    df = df.reset_index(drop = True)\n",
    "    df = df.groupby(\"asin\").filter(lambda x: len(x) >= 5)\n",
    "    df = df.reset_index(drop = True)\n",
    "    return df"
   ]
  },
  {
   "cell_type": "code",
   "execution_count": 5,
   "metadata": {
    "ExecuteTime": {
     "end_time": "2023-04-23T20:05:09.323283Z",
     "start_time": "2023-04-23T20:05:09.290369Z"
    },
    "id": "a1dp0fwj9S1d"
   },
   "outputs": [
    {
     "data": {
      "text/plain": [
       "5    286563\n",
       "4     88365\n",
       "3     46477\n",
       "1     29093\n",
       "2     22781\n",
       "Name: overall, dtype: int64"
      ]
     },
     "execution_count": 5,
     "metadata": {},
     "output_type": "execute_result"
    }
   ],
   "source": [
    "df = read_df(\"Video_Games.json\")\n",
    "#df.groupby(\"asin\").filter(lambda x: len(x) >= 500).groupby(\"asin\")[\"overall\"].mean().nsmallest(5)\n",
    "df.overall.value_counts()"
   ]
  },
  {
   "cell_type": "code",
   "execution_count": 6,
   "metadata": {
    "ExecuteTime": {
     "end_time": "2023-04-23T20:04:45.998679Z",
     "start_time": "2023-04-23T20:04:45.990385Z"
    },
    "id": "WIhdx_TufQGh"
   },
   "outputs": [],
   "source": [
    "df2 = df.iloc[:10000,:]\n",
    "\n",
    "df2[\"polarity\"] = np.where(df2.overall <= 3, 0, 1)\n",
    "\n",
    "df2[\"!\"] = df2[\"reviewText\"].copy()\n",
    "for i in range(len(df2[\"reviewText\"])):\n",
    "    if \"!\" in df2.loc[i, \"reviewText\"]:\n",
    "        df2.loc[i, \"!\"] = True\n",
    "    else: \n",
    "        df2.loc[i, \"!\"] = False\n",
    "        \n",
    "sm.Logit(endog = df2[\"polarity\"], exog = sm.add_constant(df2[\"!\"]).astype(int)).fit().summary()"
   ]
  }
 ],
 "metadata": {
  "colab": {
   "provenance": []
  },
  "kernelspec": {
   "display_name": "Python 3 (ipykernel)",
   "language": "python",
   "name": "python3"
  },
  "language_info": {
   "codemirror_mode": {
    "name": "ipython",
    "version": 3
   },
   "file_extension": ".py",
   "mimetype": "text/x-python",
   "name": "python",
   "nbconvert_exporter": "python",
   "pygments_lexer": "ipython3",
   "version": "3.10.10"
  },
  "toc": {
   "base_numbering": 1,
   "nav_menu": {},
   "number_sections": true,
   "sideBar": true,
   "skip_h1_title": false,
   "title_cell": "Table of Contents",
   "title_sidebar": "Contents",
   "toc_cell": false,
   "toc_position": {},
   "toc_section_display": true,
   "toc_window_display": false
  }
 },
 "nbformat": 4,
 "nbformat_minor": 1
}
