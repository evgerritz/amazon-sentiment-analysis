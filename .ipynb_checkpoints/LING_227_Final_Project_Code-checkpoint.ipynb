{
 "cells": [
  {
   "cell_type": "markdown",
   "metadata": {},
   "source": [
    "# Imports"
   ]
  },
  {
   "cell_type": "code",
   "execution_count": 418,
   "metadata": {
    "ExecuteTime": {
     "end_time": "2023-04-24T04:23:48.095257Z",
     "start_time": "2023-04-24T04:23:48.082055Z"
    },
    "id": "a2vEyX_BVzTB"
   },
   "outputs": [],
   "source": [
    "# link to all dfs: https://nijianmo.github.io/amazon/index.html\n",
    "import pandas as pd\n",
    "import numpy as np\n",
    "import matplotlib.pyplot as plt\n",
    "import twokenize # from homework 2b\n",
    "from porter_stemmer import PorterStemmer\n",
    "from sklearn.model_selection import train_test_split\n",
    "from sklearn.metrics import confusion_matrix, roc_curve, auc\n",
    "from sklearn.naive_bayes import ComplementNB\n",
    "import statsmodels.api as sm\n",
    "import tensorflow as tf\n",
    "from tensorflow import keras"
   ]
  },
  {
   "cell_type": "markdown",
   "metadata": {},
   "source": [
    "# Read in Data"
   ]
  },
  {
   "cell_type": "code",
   "execution_count": 426,
   "metadata": {
    "ExecuteTime": {
     "end_time": "2023-04-23T23:44:31.824437Z",
     "start_time": "2023-04-23T23:44:31.820357Z"
    },
    "id": "GpRCnN5D9BKD"
   },
   "outputs": [],
   "source": [
    "def read_df(filename):\n",
    "    df = pd.read_json(filename, lines = True)\n",
    "    df[\"reviewTime\"] = pd.to_datetime(df[\"reviewTime\"])\n",
    "    df = df.drop_duplicates(subset = [\"reviewTime\", \"reviewerID\", \"asin\"])\n",
    "    df = df.drop(columns = [\"verified\", \"reviewTime\", \"reviewerID\", \"asin\", \"reviewerName\", \n",
    "                       \"unixReviewTime\", \"vote\", \"style\", \"image\"])\n",
    "    df = df.dropna(subset = ['reviewText'])\n",
    "    df = df.reset_index(drop = True)\n",
    "    return df"
   ]
  },
  {
   "cell_type": "code",
   "execution_count": 433,
   "metadata": {
    "ExecuteTime": {
     "end_time": "2023-04-24T00:27:49.510254Z",
     "start_time": "2023-04-24T00:27:10.111796Z"
    },
    "id": "a1dp0fwj9S1d"
   },
   "outputs": [],
   "source": [
    "# https://jmcauley.ucsd.edu/data/amazon_v2/categoryFilesSmall/Toys_and_Games_5.json.gz\n",
    "df = read_df(\"data/Video_Games_5.json\")\n",
    "\n",
    "# never used, just saved in case something happens to df\n",
    "df1 = df.copy(deep = True)\n",
    "\n",
    "df = df.iloc[:10000,:]"
   ]
  },
  {
   "cell_type": "markdown",
   "metadata": {},
   "source": [
    "# Prepare Features"
   ]
  },
  {
   "cell_type": "code",
   "execution_count": 429,
   "metadata": {},
   "outputs": [],
   "source": [
    "# code taken from homework 2b student_code.py\n",
    "stemmer = PorterStemmer()\n",
    "stop_words = set([x.strip() for x in open(\"res/stopwords.english\", encoding=\"ISO-8859-1\").readlines()])\n",
    "\n",
    "neg_words =  set([x.strip() for x in open(\"res/negative-words.txt\", encoding=\"ISO-8859-1\").readlines() if not(x.startswith(\";\"))])\n",
    "neg_words.remove(\"\")\n",
    "\n",
    "pos_words =  set([x.strip() for x in open(\"res/positive-words.txt\", encoding=\"ISO-8859-1\").readlines() if not(x.startswith(\";\"))])\n",
    "pos_words.remove(\"\")"
   ]
  },
  {
   "cell_type": "code",
   "execution_count": 434,
   "metadata": {},
   "outputs": [],
   "source": [
    "features = {\n",
    "    'contains_!' : lambda x: int(\"!\" in x),\n",
    "    'num_positive' : lambda x: sum([word.lower() in pos_words for word in twokenize.tokenize(x)]),\n",
    "    'num_negative' : lambda x: sum([word.lower() in neg_words for word in twokenize.tokenize(x)]),\n",
    "    'length' : len\n",
    "}\n",
    "\n",
    "# TODO: unigram, bigram features? - this could get ugly, \n",
    "# but I guess we dont have to look at summary of logreg, just test performance"
   ]
  },
  {
   "cell_type": "code",
   "execution_count": 435,
   "metadata": {
    "ExecuteTime": {
     "end_time": "2023-04-24T03:59:44.091032Z",
     "start_time": "2023-04-24T03:50:55.022077Z"
    }
   },
   "outputs": [],
   "source": [
    "X = pd.DataFrame()\n",
    "\n",
    "features = {\n",
    "    'contains_!' : lambda x: int(\"!\" in x),\n",
    "    'num_positive' : lambda x: sum([word.lower() in pos_words for word in twokenize.tokenize(x)]),\n",
    "    'num_negative' : lambda x: sum([word.lower() in neg_words for word in twokenize.tokenize(x)]),\n",
    "    'length' : len\n",
    "}\n",
    "\n",
    "# build up the features data-matrix X by applying all of the features\n",
    "review_strings = df['reviewText'].astype(str)\n",
    "for feature, f in features.items():\n",
    "    X[feature] = review_strings.apply(f)\n",
    "    \n",
    "Y = np.where(df.overall <= 3, 0, 1)"
   ]
  },
  {
   "cell_type": "code",
   "execution_count": 437,
   "metadata": {
    "ExecuteTime": {
     "end_time": "2023-04-24T04:00:12.848096Z",
     "start_time": "2023-04-24T04:00:12.795474Z"
    }
   },
   "outputs": [],
   "source": [
    "X_train, X_test, y_train, y_test = train_test_split(X, Y, test_size = 0.33)"
   ]
  },
  {
   "cell_type": "markdown",
   "metadata": {},
   "source": [
    "# 0) Helper Functions"
   ]
  },
  {
   "cell_type": "code",
   "execution_count": 463,
   "metadata": {},
   "outputs": [],
   "source": [
    "def metrics(y_hat, y, threshold = 0.5, target = \"positive\"):\n",
    "    \n",
    "    if isinstance(y_hat, np.ndarray):\n",
    "        y_hat = y_hat.flatten()\n",
    "    \n",
    "    predicted = (pd.Series(y_hat) > threshold).astype(int)\n",
    "    actual = pd.Series(y).astype(int)\n",
    "            \n",
    "    TP = (actual * predicted).astype(bool).sum()\n",
    "    TN = ((actual-1) * (predicted-1)).astype(bool).sum()\n",
    "    FP = ((actual-1) * predicted).astype(bool).sum()\n",
    "    FN = (actual * (predicted-1)).astype(bool).sum()\n",
    "            \n",
    "    accuracy = (TP + TN) / (TP + TN + FP + FN)\n",
    "    \n",
    "    if target == \"positive\":\n",
    "        precision = TP / (TP + FP)\n",
    "        recall = TP / (TP + FN)\n",
    "        \n",
    "    if target == \"negative\":\n",
    "        precision = TN / (TN + FN)\n",
    "        recall = TN / (TN + FP)\n",
    "        \n",
    "    f = 2 / (1/precision + 1/recall)\n",
    "    \n",
    "    return accuracy, precision, recall, f\n",
    "\n",
    "def roc(y, y_hat, target = \"positive\"):\n",
    "    if target == \"positive\":\n",
    "        FP, TP, _ = roc_curve(y, y_hat)\n",
    "        plt.plot(FP, TP, label = \"positive\")\n",
    "    if target == \"negative\":\n",
    "        y = -1 * y + 1\n",
    "        y_hat = -1 * y_hat + 1\n",
    "        FP, TP, _ = roc_curve(y, y_hat)\n",
    "        plt.plot(FP, TP, label = \"negative\")"
   ]
  },
  {
   "cell_type": "code",
   "execution_count": 470,
   "metadata": {},
   "outputs": [],
   "source": [
    "positive_metrics = pd.DataFrame(index = [\"LR\", \"NB\", \"NN\"], columns = [\"Accuracy\", \"Precision\", \"Recall\", \"F\"])\n",
    "negative_metrics = pd.DataFrame(index = [\"LR\", \"NB\", \"NN\"], columns = [\"Accuracy\", \"Precision\", \"Recall\", \"F\"])"
   ]
  },
  {
   "cell_type": "markdown",
   "metadata": {},
   "source": [
    "# 1) Logistic Regression"
   ]
  },
  {
   "cell_type": "code",
   "execution_count": 477,
   "metadata": {
    "ExecuteTime": {
     "end_time": "2023-04-24T04:23:59.338458Z",
     "start_time": "2023-04-24T04:23:57.731860Z"
    }
   },
   "outputs": [
    {
     "name": "stdout",
     "output_type": "stream",
     "text": [
      "Optimization terminated successfully.\n",
      "         Current function value: 0.399736\n",
      "         Iterations 6\n"
     ]
    },
    {
     "data": {
      "image/png": "[encoded data removed]",
      "text/plain": [
       "<Figure size 640x480 with 1 Axes>"
      ]
     },
     "metadata": {},
     "output_type": "display_data"
    }
   ],
   "source": [
    "model = sm.Logit(endog = y_train, exog = sm.add_constant(X_train).astype(int)).fit()\n",
    "y_hat = model.predict(sm.add_constant(X_test).astype(int))\n",
    "\n",
    "roc(y_test, y_hat, target = \"positive\")\n",
    "roc(y_test, y_hat, target = \"negative\")\n",
    "plt.legend()\n",
    "plt.show()"
   ]
  },
  {
   "cell_type": "code",
   "execution_count": 478,
   "metadata": {},
   "outputs": [],
   "source": [
    "positive_metrics.loc[\"LR\",:] = metrics(y_hat, y_test, threshold = 0.5, target = \"positive\")\n",
    "negative_metrics.loc[\"LR\",:] = metrics(y_hat, y_test, threshold = 0.5, target = \"negative\")"
   ]
  },
  {
   "cell_type": "markdown",
   "metadata": {},
   "source": [
    "# 2) Naive Bayes"
   ]
  },
  {
   "cell_type": "code",
   "execution_count": 489,
   "metadata": {},
   "outputs": [],
   "source": [
    "model = ComplementNB().fit(X_train, y_train)\n",
    "y_hat = cnb_model.predict(X_test)"
   ]
  },
  {
   "cell_type": "code",
   "execution_count": 493,
   "metadata": {},
   "outputs": [],
   "source": [
    "positive_metrics.loc[\"NB\",:] = metrics(y_hat, y_test, target = \"positive\")\n",
    "negative_metrics.loc[\"NB\",:] = metrics(y_hat, y_test, target = \"negative\")"
   ]
  },
  {
   "cell_type": "markdown",
   "metadata": {},
   "source": [
    "# 3) Neural Network"
   ]
  },
  {
   "cell_type": "code",
   "execution_count": 499,
   "metadata": {
    "scrolled": true
   },
   "outputs": [
    {
     "name": "stdout",
     "output_type": "stream",
     "text": [
      "104/104 [==============================] - 0s 1ms/step\n"
     ]
    }
   ],
   "source": [
    "model = keras.Sequential()\n",
    "model.add(keras.layers.Dense(8, activation = \"relu\"))\n",
    "model.add(keras.layers.Dense(1, activation = \"sigmoid\"))\n",
    "\n",
    "y_0 = sum(y_train == 0)\n",
    "y_1 = sum(y_train == 1)\n",
    "w_0 = y_1 / (y_0 + y_1)\n",
    "w_1 = y_0 / (y_0 + y_1)\n",
    "\n",
    "batch_size = 8192\n",
    "\n",
    "model.compile(loss = \"binary_crossentropy\", optimizer = \"adam\", metrics = [\"accuracy\"])\n",
    "model.fit(X_train, y_train, epochs = 2500, batch_size = batch_size, verbose = 0, class_weight = {0: w_0, 1: w_1})\n",
    "y_hat = model.predict(X_test)"
   ]
  },
  {
   "cell_type": "code",
   "execution_count": 500,
   "metadata": {},
   "outputs": [],
   "source": [
    "positive_metrics.loc[\"NN\",:] = metrics(y_hat, y_test, target = \"positive\")\n",
    "negative_metrics.loc[\"NN\",:] = metrics(y_hat, y_test, target = \"negative\")"
   ]
  }
 ],
 "metadata": {
  "colab": {
   "provenance": []
  },
  "kernelspec": {
   "display_name": "Python 3 (ipykernel)",
   "language": "python",
   "name": "python3"
  },
  "language_info": {
   "codemirror_mode": {
    "name": "ipython",
    "version": 3
   },
   "file_extension": ".py",
   "mimetype": "text/x-python",
   "name": "python",
   "nbconvert_exporter": "python",
   "pygments_lexer": "ipython3",
   "version": "3.8.5"
  },
  "toc": {
   "base_numbering": 1,
   "nav_menu": {},
   "number_sections": true,
   "sideBar": true,
   "skip_h1_title": false,
   "title_cell": "Table of Contents",
   "title_sidebar": "Contents",
   "toc_cell": false,
   "toc_position": {},
   "toc_section_display": true,
   "toc_window_display": false
  }
 },
 "nbformat": 4,
 "nbformat_minor": 1
}
